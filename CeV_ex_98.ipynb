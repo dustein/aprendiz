{
  "nbformat": 4,
  "nbformat_minor": 0,
  "metadata": {
    "colab": {
      "name": "Untitled0.ipynb",
      "provenance": [],
      "authorship_tag": "ABX9TyMWu8CWppZwV9yQelZeGou+",
      "include_colab_link": true
    },
    "kernelspec": {
      "name": "python3",
      "display_name": "Python 3"
    }
  },
  "cells": [
    {
      "cell_type": "markdown",
      "metadata": {
        "id": "view-in-github",
        "colab_type": "text"
      },
      "source": [
        "<a href=\"https://colab.research.google.com/github/dustein/aprendiz/blob/master/CeV_ex_98.ipynb\" target=\"_parent\"><img src=\"https://colab.research.google.com/assets/colab-badge.svg\" alt=\"Open In Colab\"/></a>"
      ]
    },
    {
      "cell_type": "code",
      "metadata": {
        "colab": {
          "base_uri": "https://localhost:8080/"
        },
        "id": "6f5-BnGLsLte",
        "outputId": "ce0c5819-4f25-4c69-bb0d-eadc3178d00e"
      },
      "source": [
        "from time import sleep\r\n",
        "def escreva(msg):\r\n",
        "    t = len(msg)+4\r\n",
        "    print('#' * t)\r\n",
        "    print(f'  {msg}')\r\n",
        "    print('#' * t)\r\n",
        "def contar(ini, fim, pas):\r\n",
        "    if pas < 0:\r\n",
        "        pas *= -1 #se o passo informado for negativo, transformar para positivo, senão vai dar loop infinito\r\n",
        "    if pas == 0: # se o passo for negativo, virar 1, senão a cntagem não vai ocorrer\r\n",
        "        pas = 1\r\n",
        "    print(f'Contagem de {ini} até {fim} de {pas} em {pas}: ')\r\n",
        "    if ini < fim:\r\n",
        "        contador = ini\r\n",
        "        while contador <= fim:\r\n",
        "            print(f'{contador} ', end='')\r\n",
        "            sleep(0.3)\r\n",
        "            contador += pas\r\n",
        "        print('FIM')\r\n",
        "    else:\r\n",
        "        contador = ini\r\n",
        "        while contador >= fim:\r\n",
        "            print(f'{contador} ', end='')\r\n",
        "            sleep(0.3)\r\n",
        "            contador -= pas\r\n",
        "        print('FIM')\r\n",
        "    print('=' * 30)\r\n",
        "\r\n",
        "\r\n",
        "#programa principal\r\n",
        "escreva('Primeira Tarefa')\r\n",
        "contar(1, 10, 1)\r\n",
        "escreva('Segunda Tarefa')\r\n",
        "contar(10, 0, 2)\r\n",
        "print('Contagem personalizada :')\r\n",
        "inicio = int(input('Início da contagem -> '))\r\n",
        "final = int(input('Final da contagem -> '))\r\n",
        "passo = int(input('De quanto em quanto? -> '))\r\n",
        "contar(inicio, final, passo)"
      ],
      "execution_count": 33,
      "outputs": [
        {
          "output_type": "stream",
          "text": [
            "###################\n",
            "  Primeira Tarefa\n",
            "###################\n",
            "Contagem de 1 até 10 de 1 em 1: \n",
            "1 2 3 4 5 6 7 8 9 10 FIM\n",
            "==============================\n",
            "##################\n",
            "  Segunda Tarefa\n",
            "##################\n",
            "Contagem de 10 até 0 de 2 em 2: \n",
            "10 8 6 4 2 0 FIM\n",
            "==============================\n",
            "Contagem personalizada :\n",
            "Início da contagem -> 555\n",
            "Final da contagem -> 2\n",
            "De quanto em quanto? -> 36\n",
            "Contagem de 555 até 2 de 36 em 36: \n",
            "555 519 483 447 411 375 339 303 267 231 195 159 123 87 51 15 FIM\n",
            "==============================\n"
          ],
          "name": "stdout"
        }
      ]
    },
    {
      "cell_type": "markdown",
      "metadata": {
        "id": "HPKis-a_5dEa"
      },
      "source": [
        "# Nova seção"
      ]
    }
  ]
}